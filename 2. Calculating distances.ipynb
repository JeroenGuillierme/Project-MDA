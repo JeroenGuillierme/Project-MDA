{
 "cells": [
  {
   "cell_type": "code",
   "execution_count": 1,
   "id": "9f20f4ad-1b9b-4df4-aeaa-ef704ff97191",
   "metadata": {},
   "outputs": [],
   "source": [
    "import pandas as pd\n",
    "from scipy.spatial import KDTree\n",
    "import numpy as np\n",
    "from math import radians, cos, sin, asin, sqrt\n",
    "import matplotlib.pyplot as plt"
   ]
  },
  {
   "cell_type": "markdown",
   "id": "4d2bc3c5-95f4-4d4a-87f2-0af0d45a0b97",
   "metadata": {},
   "source": [
    "**Importing Datasets**"
   ]
  },
  {
   "cell_type": "code",
   "execution_count": 2,
   "id": "11aa1e7d-9473-4480-aaad-8e9df7b17526",
   "metadata": {},
   "outputs": [],
   "source": [
    "url2 = 'https://raw.githubusercontent.com/JeroenGuillierme/Project-MDA/main/Data/'\n",
    "\n",
    "data = pd.read_csv(f'{url2}aed_placement_df.csv')\n",
    "\n",
    "pd.set_option('display.max_columns', None)\n",
    "pd.options.mode.copy_on_write = True"
   ]
  },
  {
   "cell_type": "markdown",
   "id": "8e0907f8-ffa4-49af-a296-401416767635",
   "metadata": {},
   "source": [
    "**Functions**"
   ]
  },
  {
   "cell_type": "code",
   "execution_count": 3,
   "id": "d8606e2e-e9a8-42e3-8321-7e7736be9be8",
   "metadata": {},
   "outputs": [
    {
     "name": "stdout",
     "output_type": "stream",
     "text": [
      "11261 13916 352 73\n"
     ]
    }
   ],
   "source": [
    "# Ensure Latitude and Longitude are not missing\n",
    "data = data.dropna(subset=['Latitude', 'Longitude'])\n",
    "\n",
    "# Add new columns\n",
    "data['distance_to_aed'] = 0.0\n",
    "data['distance_to_ambulance'] = 0.0\n",
    "data['distance_to_mug'] = 0.0\n",
    "\n",
    "# Filter for necessary locations\n",
    "aed_locations = data[data['AED'] == 1]\n",
    "ambulance_locations = data[data['Ambulance'] == 1]\n",
    "mug_locations = data[data['Mug'] == 1]\n",
    "intervention_locations = data[data['Intervention'] == 1]\n",
    "\n",
    "print(len(intervention_locations), len(aed_locations), len(ambulance_locations), len(mug_locations))"
   ]
  },
  {
   "cell_type": "code",
   "execution_count": 4,
   "id": "1abe217f-10a9-476e-a7b8-a6d11cce989c",
   "metadata": {},
   "outputs": [],
   "source": [
    "# Check for empty DataFrames\n",
    "if aed_locations.empty:\n",
    "    print(\"No AED locations found.\")\n",
    "if ambulance_locations.empty:\n",
    "    print(\"No Ambulance locations found.\")\n",
    "if mug_locations.empty:\n",
    "    print(\"No Mug locations found.\")"
   ]
  },
  {
   "cell_type": "code",
   "execution_count": 5,
   "id": "6495de0e-0aa1-4490-8901-f6f2e16d1582",
   "metadata": {},
   "outputs": [],
   "source": [
    "# Haversine formula\n",
    "def haversine(lon1, lat1, lon2, lat2):\n",
    "    lon1, lat1, lon2, lat2 = map(radians, [lon1, lat1, lon2, lat2])\n",
    "    dlon = lon2 - lon1 \n",
    "    dlat = lat2 - lat1 \n",
    "    a = sin(dlat/2)**2 + cos(lat1) * cos(lat2) * sin(dlon/2)**2\n",
    "    c = 2 * asin(sqrt(a)) \n",
    "    r = 6371 # Radius of earth in (kilo)meters\n",
    "    return c * r"
   ]
  },
  {
   "cell_type": "code",
   "execution_count": 6,
   "id": "bad747e6-5a21-4e24-bd86-1746355f6481",
   "metadata": {},
   "outputs": [],
   "source": [
    "# Create KDTree objects\n",
    "if not aed_locations.empty:\n",
    "    tree_aeds = KDTree(aed_locations[['Latitude', 'Longitude']])\n",
    "if not ambulance_locations.empty:\n",
    "    tree_ambulances = KDTree(ambulance_locations[['Latitude', 'Longitude']])\n",
    "if not mug_locations.empty:\n",
    "    tree_mugs = KDTree(mug_locations[['Latitude', 'Longitude']])"
   ]
  },
  {
   "cell_type": "code",
   "execution_count": 7,
   "id": "b25f3852-3859-4c3c-9a72-24bf6491a416",
   "metadata": {},
   "outputs": [],
   "source": [
    "# Calculate distances\n",
    "for idx, intervention_point in intervention_locations.iterrows():\n",
    "    coords = intervention_point[['Latitude', 'Longitude']].values\n",
    "    distance_to_mug, _ = tree_mugs.query(coords)\n",
    "    distance_to_ambulance, _ = tree_ambulances.query(coords)\n",
    "    distance_to_aed, _ = tree_aeds.query(coords)\n",
    "    \n",
    "    # Get the nearest AED, Ambulance, and Mug coordinates\n",
    "    nearest_aed_idx = tree_aeds.query(coords, k=1)[1]\n",
    "    nearest_ambulance_idx = tree_ambulances.query(coords, k=1)[1]\n",
    "    nearest_mug_idx = tree_mugs.query(coords, k=1)[1]\n",
    "    \n",
    "    nearest_aed = aed_locations.iloc[nearest_aed_idx]\n",
    "    nearest_ambulance = ambulance_locations.iloc[nearest_ambulance_idx]\n",
    "    nearest_mug = mug_locations.iloc[nearest_mug_idx]\n",
    "    \n",
    "    intervention_locations.at[idx, 'distance_to_aed'] = haversine(\n",
    "        intervention_point['Longitude'], intervention_point['Latitude'],\n",
    "        nearest_aed['Longitude'], nearest_aed['Latitude']\n",
    "    )\n",
    "    intervention_locations.at[idx, 'distance_to_ambulance'] = haversine(\n",
    "        intervention_point['Longitude'], intervention_point['Latitude'],\n",
    "        nearest_ambulance['Longitude'], nearest_ambulance['Latitude']\n",
    "    )\n",
    "    intervention_locations.at[idx, 'distance_to_mug'] = haversine(\n",
    "        intervention_point['Longitude'], intervention_point['Latitude'],\n",
    "        nearest_mug['Longitude'], nearest_mug['Latitude']\n",
    "    )"
   ]
  },
  {
   "cell_type": "code",
   "execution_count": 8,
   "id": "13b52b71-5287-4112-ba41-d5654a0d0ba5",
   "metadata": {},
   "outputs": [],
   "source": [
    "# Filling in new columns for AED locations\n",
    "aed_locations['distance_to_aed'] = 0\n",
    "aed_locations['distance_to_ambulance'] = np.nan\n",
    "aed_locations['distance_to_mug'] = np.nan\n",
    "\n",
    "# Filling in new columns for mug locations\n",
    "mug_locations['distance_to_aed'] = np.nan\n",
    "mug_locations['distance_to_ambulance'] = np.nan\n",
    "mug_locations['distance_to_mug'] = 0\n",
    "\n",
    "# Filling in new columns for ambulance locations\n",
    "ambulance_locations['distance_to_aed'] = np.nan\n",
    "ambulance_locations['distance_to_ambulance'] = 0\n",
    "ambulance_locations['distance_to_mug'] = np.nan"
   ]
  },
  {
   "cell_type": "code",
   "execution_count": 9,
   "id": "dcb32fc0-a107-4092-95a4-341f4ed36172",
   "metadata": {},
   "outputs": [],
   "source": [
    "# Concatente data back together with distances\n",
    "result = pd.concat([intervention_locations, aed_locations, mug_locations, ambulance_locations], axis=0)\n",
    "# Reset index\n",
    "result.reset_index(drop=True, inplace=True)"
   ]
  },
  {
   "cell_type": "code",
   "execution_count": 10,
   "id": "befc9dd7-be28-40fe-ad95-51545c63aafa",
   "metadata": {},
   "outputs": [
    {
     "data": {
      "text/html": [
       "<div>\n",
       "<style scoped>\n",
       "    .dataframe tbody tr th:only-of-type {\n",
       "        vertical-align: middle;\n",
       "    }\n",
       "\n",
       "    .dataframe tbody tr th {\n",
       "        vertical-align: top;\n",
       "    }\n",
       "\n",
       "    .dataframe thead th {\n",
       "        text-align: right;\n",
       "    }\n",
       "</style>\n",
       "<table border=\"1\" class=\"dataframe\">\n",
       "  <thead>\n",
       "    <tr style=\"text-align: right;\">\n",
       "      <th></th>\n",
       "      <th>Latitude</th>\n",
       "      <th>Longitude</th>\n",
       "      <th>Intervention</th>\n",
       "      <th>Eventlevel</th>\n",
       "      <th>T3-T0</th>\n",
       "      <th>EventType</th>\n",
       "      <th>AED</th>\n",
       "      <th>Ambulance</th>\n",
       "      <th>Mug</th>\n",
       "      <th>distance_to_aed</th>\n",
       "      <th>distance_to_ambulance</th>\n",
       "      <th>distance_to_mug</th>\n",
       "    </tr>\n",
       "  </thead>\n",
       "  <tbody>\n",
       "    <tr>\n",
       "      <th>0</th>\n",
       "      <td>51.20685</td>\n",
       "      <td>5.13662</td>\n",
       "      <td>1</td>\n",
       "      <td>1.0</td>\n",
       "      <td>18.884917</td>\n",
       "      <td>P003 - Cardiac arrest</td>\n",
       "      <td>0</td>\n",
       "      <td>0</td>\n",
       "      <td>0</td>\n",
       "      <td>1.239539</td>\n",
       "      <td>3.523140</td>\n",
       "      <td>8.380098</td>\n",
       "    </tr>\n",
       "    <tr>\n",
       "      <th>1</th>\n",
       "      <td>51.24848</td>\n",
       "      <td>4.43869</td>\n",
       "      <td>1</td>\n",
       "      <td>1.0</td>\n",
       "      <td>4.238700</td>\n",
       "      <td>P003 - Cardiac arrest</td>\n",
       "      <td>0</td>\n",
       "      <td>0</td>\n",
       "      <td>0</td>\n",
       "      <td>0.335321</td>\n",
       "      <td>1.259929</td>\n",
       "      <td>1.259929</td>\n",
       "    </tr>\n",
       "    <tr>\n",
       "      <th>2</th>\n",
       "      <td>51.24848</td>\n",
       "      <td>4.43869</td>\n",
       "      <td>1</td>\n",
       "      <td>1.0</td>\n",
       "      <td>12.612550</td>\n",
       "      <td>P003 - Cardiac arrest</td>\n",
       "      <td>0</td>\n",
       "      <td>0</td>\n",
       "      <td>0</td>\n",
       "      <td>0.335321</td>\n",
       "      <td>1.259929</td>\n",
       "      <td>1.259929</td>\n",
       "    </tr>\n",
       "    <tr>\n",
       "      <th>3</th>\n",
       "      <td>51.28273</td>\n",
       "      <td>4.42134</td>\n",
       "      <td>1</td>\n",
       "      <td>1.0</td>\n",
       "      <td>13.427900</td>\n",
       "      <td>P003 - Cardiac arrest</td>\n",
       "      <td>0</td>\n",
       "      <td>0</td>\n",
       "      <td>0</td>\n",
       "      <td>0.083377</td>\n",
       "      <td>3.262920</td>\n",
       "      <td>3.434839</td>\n",
       "    </tr>\n",
       "    <tr>\n",
       "      <th>4</th>\n",
       "      <td>51.28273</td>\n",
       "      <td>4.42134</td>\n",
       "      <td>1</td>\n",
       "      <td>1.0</td>\n",
       "      <td>36.619500</td>\n",
       "      <td>P003 - Cardiac arrest</td>\n",
       "      <td>0</td>\n",
       "      <td>0</td>\n",
       "      <td>0</td>\n",
       "      <td>0.083377</td>\n",
       "      <td>3.262920</td>\n",
       "      <td>3.434839</td>\n",
       "    </tr>\n",
       "    <tr>\n",
       "      <th>5</th>\n",
       "      <td>51.17895</td>\n",
       "      <td>4.39024</td>\n",
       "      <td>1</td>\n",
       "      <td>2.0</td>\n",
       "      <td>10.955033</td>\n",
       "      <td>P003 - Cardiac arrest</td>\n",
       "      <td>0</td>\n",
       "      <td>0</td>\n",
       "      <td>0</td>\n",
       "      <td>0.178210</td>\n",
       "      <td>1.578813</td>\n",
       "      <td>1.578813</td>\n",
       "    </tr>\n",
       "    <tr>\n",
       "      <th>6</th>\n",
       "      <td>51.17895</td>\n",
       "      <td>4.39024</td>\n",
       "      <td>1</td>\n",
       "      <td>2.0</td>\n",
       "      <td>11.065717</td>\n",
       "      <td>P003 - Cardiac arrest</td>\n",
       "      <td>0</td>\n",
       "      <td>0</td>\n",
       "      <td>0</td>\n",
       "      <td>0.178210</td>\n",
       "      <td>1.578813</td>\n",
       "      <td>1.578813</td>\n",
       "    </tr>\n",
       "    <tr>\n",
       "      <th>7</th>\n",
       "      <td>51.20520</td>\n",
       "      <td>4.76586</td>\n",
       "      <td>1</td>\n",
       "      <td>0.0</td>\n",
       "      <td>9.628933</td>\n",
       "      <td>P003 - Cardiac arrest</td>\n",
       "      <td>0</td>\n",
       "      <td>0</td>\n",
       "      <td>0</td>\n",
       "      <td>0.489422</td>\n",
       "      <td>5.373831</td>\n",
       "      <td>5.464297</td>\n",
       "    </tr>\n",
       "    <tr>\n",
       "      <th>8</th>\n",
       "      <td>51.20520</td>\n",
       "      <td>4.76586</td>\n",
       "      <td>1</td>\n",
       "      <td>0.0</td>\n",
       "      <td>10.428750</td>\n",
       "      <td>P003 - Cardiac arrest</td>\n",
       "      <td>0</td>\n",
       "      <td>0</td>\n",
       "      <td>0</td>\n",
       "      <td>0.489422</td>\n",
       "      <td>5.373831</td>\n",
       "      <td>5.464297</td>\n",
       "    </tr>\n",
       "    <tr>\n",
       "      <th>9</th>\n",
       "      <td>51.06293</td>\n",
       "      <td>4.45693</td>\n",
       "      <td>1</td>\n",
       "      <td>1.0</td>\n",
       "      <td>10.548417</td>\n",
       "      <td>P003 - Cardiac arrest</td>\n",
       "      <td>0</td>\n",
       "      <td>0</td>\n",
       "      <td>0</td>\n",
       "      <td>0.166553</td>\n",
       "      <td>2.220918</td>\n",
       "      <td>3.595612</td>\n",
       "    </tr>\n",
       "  </tbody>\n",
       "</table>\n",
       "</div>"
      ],
      "text/plain": [
       "   Latitude  Longitude  Intervention  Eventlevel      T3-T0  \\\n",
       "0  51.20685    5.13662             1         1.0  18.884917   \n",
       "1  51.24848    4.43869             1         1.0   4.238700   \n",
       "2  51.24848    4.43869             1         1.0  12.612550   \n",
       "3  51.28273    4.42134             1         1.0  13.427900   \n",
       "4  51.28273    4.42134             1         1.0  36.619500   \n",
       "5  51.17895    4.39024             1         2.0  10.955033   \n",
       "6  51.17895    4.39024             1         2.0  11.065717   \n",
       "7  51.20520    4.76586             1         0.0   9.628933   \n",
       "8  51.20520    4.76586             1         0.0  10.428750   \n",
       "9  51.06293    4.45693             1         1.0  10.548417   \n",
       "\n",
       "               EventType  AED  Ambulance  Mug  distance_to_aed  \\\n",
       "0  P003 - Cardiac arrest    0          0    0         1.239539   \n",
       "1  P003 - Cardiac arrest    0          0    0         0.335321   \n",
       "2  P003 - Cardiac arrest    0          0    0         0.335321   \n",
       "3  P003 - Cardiac arrest    0          0    0         0.083377   \n",
       "4  P003 - Cardiac arrest    0          0    0         0.083377   \n",
       "5  P003 - Cardiac arrest    0          0    0         0.178210   \n",
       "6  P003 - Cardiac arrest    0          0    0         0.178210   \n",
       "7  P003 - Cardiac arrest    0          0    0         0.489422   \n",
       "8  P003 - Cardiac arrest    0          0    0         0.489422   \n",
       "9  P003 - Cardiac arrest    0          0    0         0.166553   \n",
       "\n",
       "   distance_to_ambulance  distance_to_mug  \n",
       "0               3.523140         8.380098  \n",
       "1               1.259929         1.259929  \n",
       "2               1.259929         1.259929  \n",
       "3               3.262920         3.434839  \n",
       "4               3.262920         3.434839  \n",
       "5               1.578813         1.578813  \n",
       "6               1.578813         1.578813  \n",
       "7               5.373831         5.464297  \n",
       "8               5.373831         5.464297  \n",
       "9               2.220918         3.595612  "
      ]
     },
     "execution_count": 10,
     "metadata": {},
     "output_type": "execute_result"
    }
   ],
   "source": [
    "result.head(10)"
   ]
  },
  {
   "cell_type": "markdown",
   "id": "a5447d89-c937-47be-8503-b02f6fc114af",
   "metadata": {},
   "source": [
    "**Histogram for distribution distances to closest AED for all interventions**"
   ]
  },
  {
   "cell_type": "code",
   "execution_count": 11,
   "id": "b433b73b-acbc-4283-b7e0-4f09392a212d",
   "metadata": {},
   "outputs": [
    {
     "data": {
      "text/plain": [
       "Text(0.5, 1.0, 'Distribution of distances to closest AED location')"
      ]
     },
     "execution_count": 11,
     "metadata": {},
     "output_type": "execute_result"
    },
    {
     "data": {
      "image/png": "[encoded data removed]",
      "text/plain": [
       "<Figure size 640x480 with 1 Axes>"
      ]
     },
     "metadata": {},
     "output_type": "display_data"
    }
   ],
   "source": [
    "interventions = result[result['Intervention']==1]\n",
    "interventions['distance_to_aed'].hist()\n",
    "plt.xlabel('Distance in km')\n",
    "plt.title('Distribution of distances to closest AED location')"
   ]
  },
  {
   "cell_type": "markdown",
   "id": "aa4d200f-9dce-4c62-a229-731ac8326a33",
   "metadata": {},
   "source": [
    "**Histogram for distribution distances to closest ambulance for all interventions**"
   ]
  },
  {
   "cell_type": "code",
   "execution_count": 12,
   "id": "e43735ba-7e1a-47ca-9f2d-93fa850482ec",
   "metadata": {},
   "outputs": [
    {
     "data": {
      "text/plain": [
       "Text(0.5, 1.0, 'Distribution of distances to closest Ambulance location')"
      ]
     },
     "execution_count": 12,
     "metadata": {},
     "output_type": "execute_result"
    },
    {
     "data": {
      "image/png": "[encoded data removed]",
      "text/plain": [
       "<Figure size 640x480 with 1 Axes>"
      ]
     },
     "metadata": {},
     "output_type": "display_data"
    }
   ],
   "source": [
    "result['distance_to_ambulance'].hist()\n",
    "plt.xlabel('Distance in km')\n",
    "plt.title('Distribution of distances to closest Ambulance location')"
   ]
  },
  {
   "cell_type": "markdown",
   "id": "7bb4623d-d2e2-4b74-8089-ac99ba111ea3",
   "metadata": {},
   "source": [
    "**Histogram for distribution distances to closest mug for all interventions**"
   ]
  },
  {
   "cell_type": "code",
   "execution_count": 13,
   "id": "955ac863-f91b-4f81-9054-fcba2702977e",
   "metadata": {},
   "outputs": [
    {
     "data": {
      "text/plain": [
       "Text(0.5, 1.0, 'Distribution of distances to closest Mug location')"
      ]
     },
     "execution_count": 13,
     "metadata": {},
     "output_type": "execute_result"
    },
    {
     "data": {
      "image/png": "[encoded data removed]",
      "text/plain": [
       "<Figure size 640x480 with 1 Axes>"
      ]
     },
     "metadata": {},
     "output_type": "display_data"
    }
   ],
   "source": [
    "result['distance_to_mug'].hist()\n",
    "plt.xlabel('Distance in km')\n",
    "plt.title('Distribution of distances to closest Mug location')"
   ]
  }
 ],
 "metadata": {
  "kernelspec": {
   "display_name": "MDA24",
   "language": "python",
   "name": "mda24"
  },
  "language_info": {
   "codemirror_mode": {
    "name": "ipython",
    "version": 3
   },
   "file_extension": ".py",
   "mimetype": "text/x-python",
   "name": "python",
   "nbconvert_exporter": "python",
   "pygments_lexer": "ipython3",
   "version": "3.12.4"
  }
 },
 "nbformat": 4,
 "nbformat_minor": 5
}
