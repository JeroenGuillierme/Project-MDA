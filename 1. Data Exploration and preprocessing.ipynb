{
 "cells": [
  {
   "cell_type": "code",
   "execution_count": 1,
   "id": "32babd5f-a376-4bdc-ba15-7a9b548f9593",
   "metadata": {},
   "outputs": [],
   "source": [
    "import pandas as pd\n",
    "import pyarrow\n",
    "from datetime import datetime, timedelta\n",
    "import numpy as np\n",
    "import re\n",
    "import matplotlib.pyplot as plt\n",
    "from sklearn.ensemble import IsolationForest"
   ]
  },
  {
   "cell_type": "markdown",
   "id": "82b639b6-13b7-4552-8fe7-91c89075738b",
   "metadata": {},
   "source": [
    "**Importing Datasets**\n",
    "\n",
    "Original 'dirty' datasets retrieved from AWS s3 bucket and aed dataset with geocoded addresses retrieved from public GitHub Repository (takes 1336s to run this data retrieval)"
   ]
  },
  {
   "cell_type": "code",
   "execution_count": 2,
   "id": "71d7f692-4517-459a-ad76-870694e59ce3",
   "metadata": {},
   "outputs": [],
   "source": [
    "url = 's3://mdaprojectdata2/'\n",
    "url2 = 'https://raw.githubusercontent.com/JeroenGuillierme/Project-MDA/main/Data/'\n",
    "\n",
    "ambulance = pd.read_parquet(f'{url}ambulance_locations.parquet.gzip')\n",
    "mug = pd.read_parquet(f'{url}mug_locations.parquet.gzip')\n",
    "pit = pd.read_parquet(f'{url}pit_locations.parquet.gzip')\n",
    "interventions1 = pd.read_parquet(f'{url}interventions1.parquet.gzip')\n",
    "interventions2 = pd.read_parquet(f'{url}interventions2.parquet.gzip')\n",
    "interventions3 = pd.read_parquet(f'{url}interventions3.parquet.gzip')\n",
    "interventions4 = pd.read_parquet(f'{url}interventions_bxl.parquet.gzip')\n",
    "interventions5 = pd.read_parquet(f'{url}interventions_bxl2.parquet.gzip')\n",
    "cad = pd.read_parquet(f'{url}cad9.parquet.gzip')\n",
    "aed = pd.read_parquet(f'{url}aed_locations.parquet.gzip')\n",
    "\n",
    "aed_total = pd.read_csv(f'{url2}aed_total_coordinates.csv')\n",
    "mug1 = pd.read_csv(f'{url2}mug1.csv')\n",
    "\n",
    "pd.set_option('display.max_columns', None)\n",
    "pd.options.mode.copy_on_write = True"
   ]
  },
  {
   "cell_type": "markdown",
   "id": "bb8be4de-d2d4-47fb-89a1-15255306feae",
   "metadata": {},
   "source": [
    "**Functions**\n",
    "\n",
    "Here some functions are defined, which will be used further in this Notebook for preprocessing/cleaning the data."
   ]
  },
  {
   "cell_type": "code",
   "execution_count": 3,
   "id": "558806b2-9cfa-4fef-b136-5468a6166be4",
   "metadata": {},
   "outputs": [],
   "source": [
    "# Function to correct latitude values\n",
    "def correct_latitude(lat):\n",
    "    '''\n",
    "    Corrects and standardizes latitude values by ensuring they are numeric and properly formatted.\n",
    "    :param lat: str, float or int\n",
    "    The latitude value to be corrected.\n",
    "    :return: float\n",
    "    The corrected latitude value, or NaN if the input is NaN.\n",
    "    '''\n",
    "    if pd.isna(lat):\n",
    "        return lat  # Return NaN as it is\n",
    "    if isinstance(lat, (str, float, int)):\n",
    "        lat_str = str(lat)\n",
    "        # Remove any existing non-numeric characters (except -)\n",
    "        lat_str = re.sub(r'[^0-9-]', '', lat_str)\n",
    "        # Move the decimal point to ensure two digits before the decimal point\n",
    "        if len(lat_str) > 2:\n",
    "            lat_str = lat_str[:2] + '.' + lat_str[2:]\n",
    "        return float(lat_str)\n",
    "    return lat\n",
    "\n",
    "\n",
    "# Function to correct longitude values\n",
    "def correct_longitude(lon):\n",
    "    '''\n",
    "    Corrects and standardizes longitude values by ensuring they are numeric and properly formatted.\n",
    "    :param lon: str, float or int\n",
    "    The longitude value to be corrected.\n",
    "    :return:float\n",
    "    The corrected longitude value, or NaN if the input is NaN.\n",
    "    '''\n",
    "    if pd.isna(lon):\n",
    "        return lon  # Return NaN as it is\n",
    "    if isinstance(lon, (str, float, int)):\n",
    "        lon_str = str(lon)\n",
    "        # Remove any existing non-numeric characters (except -)\n",
    "        lon_str = re.sub(r'[^0-9-]', '', lon_str)\n",
    "        # Move the decimal point to ensure one digit before the decimal point\n",
    "        if len(lon_str) > 1:\n",
    "            lon_str = lon_str[:1] + '.' + lon_str[1:]\n",
    "        return float(lon_str)\n",
    "    return lon\n",
    "\n",
    "\n",
    "# Define a function to extract the numeric part using regex\n",
    "def extract_numeric(text):\n",
    "    '''\n",
    "    Extracts the first numeric part from a given text using regular expressions.\n",
    "    :param text: str\n",
    "    The text from which to extract the numeric part.\n",
    "    :return: int or float\n",
    "    The extracted numeric value, or NaN if no numeric part is found.\n",
    "    '''\n",
    "    match = re.search(r'\\d+', text)\n",
    "    return int(match.group()) if match else np.nan\n",
    "\n",
    "\n",
    "# Function to filter rows based on coordinates falling within Belgium\n",
    "def is_within_belgium(lat, lon):\n",
    "    '''\n",
    "    Checks if given latitude and longitude coordinates fall within Belgium's geographical boundaries.\n",
    "    :param lat: float\n",
    "    The latitude value to be checked.\n",
    "    :param lon: float\n",
    "    The longitude value to be checked.\n",
    "    :return: bool\n",
    "    True if the coordinates are within Belgium's boundaries, False otherwise.\n",
    "    '''\n",
    "    # Define the geographical boundaries of Belgium\n",
    "    belgium_boundaries = {\n",
    "        'min_latitude': 49.50,\n",
    "        'max_latitude': 51.50,\n",
    "        'min_longitude': 2.5,\n",
    "        'max_longitude': 6.5\n",
    "    }\n",
    "\n",
    "    return (belgium_boundaries['min_latitude'] <= lat <= belgium_boundaries['max_latitude']) and \\\n",
    "        (belgium_boundaries['min_longitude'] <= lon <= belgium_boundaries['max_longitude'])\n",
    "\n",
    "# Function to convert time formats like %d%b%y:%H:%M:%S to date time\n",
    "def convert_format1(time1):\n",
    "    return pd.to_datetime(time1, format='%d%b%y:%H:%M:%S')\n",
    "\n",
    "# Function to convert time formats like %Y-%m-%d %H:%M:%S.%f to date time\n",
    "def convert_format2(time2):\n",
    "    return pd.to_datetime(time2, format='%Y-%m-%d %H:%M:%S.%f')\n",
    "\n",
    "# Function to convert time formats like %Y-%m-%d %H:%M:%S.%f %z to date time\n",
    "def convert_format3(time3):\n",
    "    return pd.to_datetime(time3, format='%Y-%m-%d %H:%M:%S.%f %z', dayfirst=True)\n",
    "\n",
    "\n",
    "# Function to convert Timedelta to minutes\n",
    "def timedelta_to_minutes(td):\n",
    "    '''\n",
    "    Converts a pandas Timedelta object to minutes.\n",
    "    :param td: pd.TimeDelta\n",
    "    The Timedelta object to be converted.\n",
    "    :return: float\n",
    "    The total duration in minutes.\n",
    "    '''\n",
    "    return td.total_seconds() / 60\n",
    "\n",
    "# Function to draw histograms\n",
    "def draw_histograms(df, variables, n_rows, n_cols):\n",
    "    fig=plt.figure()\n",
    "    for i, var_name in enumerate(variables):\n",
    "        ax=fig.add_subplot(n_rows,n_cols,i+1)\n",
    "        df[var_name].hist(bins=30,ax=ax,density=True)\n",
    "        ax.set_title(var_name+\" Distribution\")\n",
    "    fig.tight_layout()  # Improves appearance a bit.\n",
    "    plt.show()"
   ]
  },
  {
   "cell_type": "markdown",
   "id": "8ac87798-06aa-44dc-9053-626d4d9dc283",
   "metadata": {},
   "source": [
    "**Preprocessing Interventions Datasets**\n",
    "\n",
    "**Starting with first three intervention datasets**"
   ]
  },
  {
   "cell_type": "code",
   "execution_count": 4,
   "id": "a03c3972-aa67-4254-80e6-c6ad1d1bee05",
   "metadata": {},
   "outputs": [],
   "source": [
    "# only keeping cardiac arrest interventions\n",
    "interventions1 = interventions1[interventions1[\"EventType Firstcall\"] == \"P003 - Cardiac arrest\"]\n",
    "interventions2 = interventions2[interventions2[\"EventType Firstcall\"] == \"P003 - Cardiac arrest\"]\n",
    "interventions3 = interventions3[interventions3[\"EventType Firstcall\"] == \"P003 - Cardiac arrest\"]"
   ]
  },
  {
   "cell_type": "code",
   "execution_count": 5,
   "id": "9499e3e7-b6a7-4379-9bad-307f49caf01e",
   "metadata": {},
   "outputs": [],
   "source": [
    "# Converting time formats to datetime \n",
    "# T0\n",
    "interventions1[\"T0\"] = interventions1[\"T0\"].apply(convert_format1)\n",
    "interventions2[\"T0\"] = interventions2[\"T0\"].apply(convert_format1)\n",
    "interventions3[\"T0\"] = interventions3[\"T0\"].apply(convert_format1)\n",
    "\n",
    "# T3\n",
    "interventions1[\"T3\"] = interventions1[\"T3\"].apply(convert_format2)\n",
    "interventions2[\"T3\"] = interventions2[\"T3\"].apply(convert_format2)\n",
    "interventions3[\"T3\"] = interventions3[\"T3\"].apply(convert_format2)\n"
   ]
  },
  {
   "cell_type": "code",
   "execution_count": 6,
   "id": "84104424-b72d-4460-881f-030885a41738",
   "metadata": {},
   "outputs": [],
   "source": [
    "# Concatenating first three intervention datasets\n",
    "interventions123_total = pd.concat([interventions1, interventions2, interventions3], axis=0)\n",
    "\n",
    "# Creating response time variable T3-T0, after converting them in the right date-time format\n",
    "interventions123_total[\"T3-T0\"] = interventions123_total[\"T3\"] - interventions123_total[\"T0\"]\n",
    "\n",
    "# Renaming variable EventType\n",
    "interventions123_total['EventType'] = interventions123_total['EventType Firstcall']\n",
    "\n",
    "# Correcting coordinates\n",
    "interventions123_total['Latitude'] = interventions123_total['Latitude intervention'].apply(correct_latitude).copy()\n",
    "interventions123_total['Longitude'] = interventions123_total['Longitude intervention'].apply(correct_longitude).copy()\n",
    "\n",
    "# Renaming variable Eventlevel\n",
    "interventions123_total['Eventlevel'] = interventions123_total[\"EventLevel Firstcall\"].copy()\n",
    "interventions123_total['Intervention'] = 1\n",
    "\n",
    "# Only keep several variables\n",
    "interventions123_total = interventions123_total[\n",
    "    ['Latitude', 'Longitude', \"Intervention\", \"Eventlevel\", \"T3-T0\", \"EventType\"]]"
   ]
  },
  {
   "cell_type": "code",
   "execution_count": 7,
   "id": "3c52873c-b4f7-4a03-9cde-0c36c2d33813",
   "metadata": {},
   "outputs": [
    {
     "data": {
      "text/html": [
       "<div>\n",
       "<style scoped>\n",
       "    .dataframe tbody tr th:only-of-type {\n",
       "        vertical-align: middle;\n",
       "    }\n",
       "\n",
       "    .dataframe tbody tr th {\n",
       "        vertical-align: top;\n",
       "    }\n",
       "\n",
       "    .dataframe thead th {\n",
       "        text-align: right;\n",
       "    }\n",
       "</style>\n",
       "<table border=\"1\" class=\"dataframe\">\n",
       "  <thead>\n",
       "    <tr style=\"text-align: right;\">\n",
       "      <th></th>\n",
       "      <th>Latitude</th>\n",
       "      <th>Longitude</th>\n",
       "      <th>Intervention</th>\n",
       "      <th>Eventlevel</th>\n",
       "      <th>T3-T0</th>\n",
       "      <th>EventType</th>\n",
       "    </tr>\n",
       "  </thead>\n",
       "  <tbody>\n",
       "    <tr>\n",
       "      <th>42</th>\n",
       "      <td>51.20685</td>\n",
       "      <td>5.13662</td>\n",
       "      <td>1</td>\n",
       "      <td>N1</td>\n",
       "      <td>0 days 00:18:53.095000</td>\n",
       "      <td>P003 - Cardiac arrest</td>\n",
       "    </tr>\n",
       "    <tr>\n",
       "      <th>87</th>\n",
       "      <td>51.24848</td>\n",
       "      <td>4.43869</td>\n",
       "      <td>1</td>\n",
       "      <td>N1</td>\n",
       "      <td>0 days 00:04:14.322000</td>\n",
       "      <td>P003 - Cardiac arrest</td>\n",
       "    </tr>\n",
       "    <tr>\n",
       "      <th>88</th>\n",
       "      <td>51.24848</td>\n",
       "      <td>4.43869</td>\n",
       "      <td>1</td>\n",
       "      <td>N1</td>\n",
       "      <td>0 days 00:12:36.753000</td>\n",
       "      <td>P003 - Cardiac arrest</td>\n",
       "    </tr>\n",
       "    <tr>\n",
       "      <th>207</th>\n",
       "      <td>51.28273</td>\n",
       "      <td>4.42134</td>\n",
       "      <td>1</td>\n",
       "      <td>N1</td>\n",
       "      <td>0 days 00:13:25.674000</td>\n",
       "      <td>P003 - Cardiac arrest</td>\n",
       "    </tr>\n",
       "    <tr>\n",
       "      <th>208</th>\n",
       "      <td>51.28273</td>\n",
       "      <td>4.42134</td>\n",
       "      <td>1</td>\n",
       "      <td>N1</td>\n",
       "      <td>0 days 00:36:37.170000</td>\n",
       "      <td>P003 - Cardiac arrest</td>\n",
       "    </tr>\n",
       "  </tbody>\n",
       "</table>\n",
       "</div>"
      ],
      "text/plain": [
       "     Latitude  Longitude  Intervention Eventlevel                  T3-T0  \\\n",
       "42   51.20685    5.13662             1         N1 0 days 00:18:53.095000   \n",
       "87   51.24848    4.43869             1         N1 0 days 00:04:14.322000   \n",
       "88   51.24848    4.43869             1         N1 0 days 00:12:36.753000   \n",
       "207  51.28273    4.42134             1         N1 0 days 00:13:25.674000   \n",
       "208  51.28273    4.42134             1         N1 0 days 00:36:37.170000   \n",
       "\n",
       "                 EventType  \n",
       "42   P003 - Cardiac arrest  \n",
       "87   P003 - Cardiac arrest  \n",
       "88   P003 - Cardiac arrest  \n",
       "207  P003 - Cardiac arrest  \n",
       "208  P003 - Cardiac arrest  "
      ]
     },
     "execution_count": 7,
     "metadata": {},
     "output_type": "execute_result"
    }
   ],
   "source": [
    "interventions123_total.head(5)"
   ]
  },
  {
   "cell_type": "markdown",
   "id": "999a559c-ef74-4b5f-b2f9-aa2d9db0439b",
   "metadata": {},
   "source": [
    "**Continuing with cad dataset**"
   ]
  },
  {
   "cell_type": "code",
   "execution_count": 8,
   "id": "b3dfcd40-b533-4af5-b803-ae8635043730",
   "metadata": {},
   "outputs": [],
   "source": [
    "# Only keep cardiac arrest incidents\n",
    "cad = cad[cad['EventType Trip'] == \"P003 - HARTSTILSTAND - DOOD - OVERLEDEN\"]"
   ]
  },
  {
   "cell_type": "code",
   "execution_count": 9,
   "id": "14216a40-8b8d-4c55-b692-0bf5c234cb32",
   "metadata": {},
   "outputs": [],
   "source": [
    "# Converting time formats to datetime \n",
    "# T0\n",
    "cad[\"T0\"] = cad[\"T0\"].apply(convert_format2)\n",
    "# T3\n",
    "cad[\"T3\"] = cad[\"T3\"].apply(convert_format2)"
   ]
  },
  {
   "cell_type": "code",
   "execution_count": 10,
   "id": "6330d2e1-8fb2-4e9c-be33-ccb88fc7bdde",
   "metadata": {},
   "outputs": [],
   "source": [
    "# Create extra column Intervention\n",
    "cad['Intervention'] = 1 \n",
    "\n",
    "# Creating new variable response time T3-T0, after converting them in the right date-time format\n",
    "cad['T3-T0'] = cad['T3'] - cad['T0']\n",
    "\n",
    "# Renaming variable EventType\n",
    "cad['EventType'] = cad['EventType Trip']\n",
    "\n",
    "# Renaming variable EventLevel\n",
    "cad['Eventlevel'] = cad['EventLevel Trip']\n",
    "\n",
    "# Correcting coordinates\n",
    "cad['Latitude'] = cad['Latitude intervention'].apply(correct_latitude)\n",
    "cad['Longitude'] = cad['Longitude intervention'].apply(correct_longitude)\n",
    "\n",
    "# Only keep several variables\n",
    "cad = cad[['Latitude', 'Longitude', 'Intervention', 'Eventlevel', 'T3-T0', 'EventType']]"
   ]
  },
  {
   "cell_type": "code",
   "execution_count": 11,
   "id": "5afc449b-4187-46f7-8863-11cd597ee635",
   "metadata": {},
   "outputs": [
    {
     "data": {
      "text/html": [
       "<div>\n",
       "<style scoped>\n",
       "    .dataframe tbody tr th:only-of-type {\n",
       "        vertical-align: middle;\n",
       "    }\n",
       "\n",
       "    .dataframe tbody tr th {\n",
       "        vertical-align: top;\n",
       "    }\n",
       "\n",
       "    .dataframe thead th {\n",
       "        text-align: right;\n",
       "    }\n",
       "</style>\n",
       "<table border=\"1\" class=\"dataframe\">\n",
       "  <thead>\n",
       "    <tr style=\"text-align: right;\">\n",
       "      <th></th>\n",
       "      <th>Latitude</th>\n",
       "      <th>Longitude</th>\n",
       "      <th>Intervention</th>\n",
       "      <th>Eventlevel</th>\n",
       "      <th>T3-T0</th>\n",
       "      <th>EventType</th>\n",
       "    </tr>\n",
       "  </thead>\n",
       "  <tbody>\n",
       "    <tr>\n",
       "      <th>322</th>\n",
       "      <td>50.928019</td>\n",
       "      <td>4.535123</td>\n",
       "      <td>1</td>\n",
       "      <td>N1</td>\n",
       "      <td>-44 days +22:49:37</td>\n",
       "      <td>P003 - HARTSTILSTAND - DOOD - OVERLEDEN</td>\n",
       "    </tr>\n",
       "    <tr>\n",
       "      <th>323</th>\n",
       "      <td>50.928019</td>\n",
       "      <td>4.535123</td>\n",
       "      <td>1</td>\n",
       "      <td>N1</td>\n",
       "      <td>-44 days +22:49:37</td>\n",
       "      <td>P003 - HARTSTILSTAND - DOOD - OVERLEDEN</td>\n",
       "    </tr>\n",
       "    <tr>\n",
       "      <th>440</th>\n",
       "      <td>50.767029</td>\n",
       "      <td>4.273000</td>\n",
       "      <td>1</td>\n",
       "      <td>N1</td>\n",
       "      <td>0 days 00:09:50</td>\n",
       "      <td>P003 - HARTSTILSTAND - DOOD - OVERLEDEN</td>\n",
       "    </tr>\n",
       "    <tr>\n",
       "      <th>441</th>\n",
       "      <td>50.767029</td>\n",
       "      <td>4.273000</td>\n",
       "      <td>1</td>\n",
       "      <td>N1</td>\n",
       "      <td>0 days 00:09:50</td>\n",
       "      <td>P003 - HARTSTILSTAND - DOOD - OVERLEDEN</td>\n",
       "    </tr>\n",
       "    <tr>\n",
       "      <th>516</th>\n",
       "      <td>50.898349</td>\n",
       "      <td>4.755029</td>\n",
       "      <td>1</td>\n",
       "      <td>N1</td>\n",
       "      <td>0 days 00:15:03</td>\n",
       "      <td>P003 - HARTSTILSTAND - DOOD - OVERLEDEN</td>\n",
       "    </tr>\n",
       "  </tbody>\n",
       "</table>\n",
       "</div>"
      ],
      "text/plain": [
       "      Latitude  Longitude  Intervention Eventlevel              T3-T0  \\\n",
       "322  50.928019   4.535123             1         N1 -44 days +22:49:37   \n",
       "323  50.928019   4.535123             1         N1 -44 days +22:49:37   \n",
       "440  50.767029   4.273000             1         N1    0 days 00:09:50   \n",
       "441  50.767029   4.273000             1         N1    0 days 00:09:50   \n",
       "516  50.898349   4.755029             1         N1    0 days 00:15:03   \n",
       "\n",
       "                                   EventType  \n",
       "322  P003 - HARTSTILSTAND - DOOD - OVERLEDEN  \n",
       "323  P003 - HARTSTILSTAND - DOOD - OVERLEDEN  \n",
       "440  P003 - HARTSTILSTAND - DOOD - OVERLEDEN  \n",
       "441  P003 - HARTSTILSTAND - DOOD - OVERLEDEN  \n",
       "516  P003 - HARTSTILSTAND - DOOD - OVERLEDEN  "
      ]
     },
     "execution_count": 11,
     "metadata": {},
     "output_type": "execute_result"
    }
   ],
   "source": [
    "cad.head(5)"
   ]
  },
  {
   "cell_type": "markdown",
   "id": "787bfb32-3917-40b8-aced-b0418ee75ffa",
   "metadata": {},
   "source": [
    "**Next, datasets with interventions from Brussels**"
   ]
  },
  {
   "cell_type": "code",
   "execution_count": 12,
   "id": "53617db5-ee95-4292-859d-260116289baf",
   "metadata": {},
   "outputs": [],
   "source": [
    "# Only keeping interventions for cardiac arrests\n",
    "interventions4 = interventions4[interventions4['eventtype_firstcall'] == 'P003 - Cardiac arrest']\n",
    "interventions5 = interventions5[\n",
    "    (interventions5['EventType and EventLevel'] == 'P003  N01 - HARTSTILSTAND - DOOD - OVERLEDEN') | (\n",
    "            interventions5['EventType and EventLevel'] == 'P003  N05 - HARTSTILSTAND - DOOD - OVERLEDEN')]"
   ]
  },
  {
   "cell_type": "code",
   "execution_count": 13,
   "id": "e1d96fe7-f7cd-45bb-b82a-1f0f93effd2d",
   "metadata": {},
   "outputs": [],
   "source": [
    "# Converting time formats to datetime \n",
    "# T0\n",
    "interventions4[\"t0\"] = interventions4[\"t0\"].apply(convert_format3)\n",
    "interventions5[\"T0\"] = interventions5[\"T0\"].apply(convert_format1)\n",
    "# T3\n",
    "interventions4[\"t3\"] = interventions4[\"t3\"].apply(convert_format3)\n",
    "interventions5[\"T3\"] = interventions5[\"T3\"].apply(convert_format1)"
   ]
  },
  {
   "cell_type": "code",
   "execution_count": 14,
   "id": "ef4b458f-4683-4f99-b065-79164463603c",
   "metadata": {},
   "outputs": [
    {
     "name": "stderr",
     "output_type": "stream",
     "text": [
      "C:\\Users\\Admin\\AppData\\Local\\Temp\\ipykernel_604\\610097005.py:13: PerformanceWarning: Adding/subtracting object-dtype array to DatetimeArray not vectorized.\n",
      "  interventions4['T3-T0'] = interventions4['t3'] - interventions4['t0']\n"
     ]
    }
   ],
   "source": [
    "# Creating variable Intervention\n",
    "interventions4['Intervention'] = 1\n",
    "interventions5['Intervention'] = 1\n",
    "\n",
    "# renaming variable EventType\n",
    "interventions4['EventType'] = interventions4['eventtype_firstcall']\n",
    "interventions5['EventType'] = interventions5['EventType and EventLevel'].apply(lambda x: re.sub(r'  [A-Z]\\d{2}', '', x))\n",
    "# Renaming variable Eventlevel\n",
    "interventions4['Eventlevel'] = interventions4['eventLevel_firstcall']\n",
    "interventions5[\"Eventlevel\"] = interventions5[\"EventType and EventLevel\"].str.split(\" \").str[2].str.replace(\"0\", \"\")\n",
    "\n",
    "# Creating variable Response Time T3-T0\n",
    "interventions4['T3-T0'] = interventions4['t3'] - interventions4['t0']\n",
    "interventions5['T3-T0'] = interventions5['T3'] - interventions5['T0']\n",
    "\n",
    "# Correcting coordinates\n",
    "interventions4['Latitude'] = interventions4['latitude_intervention'].apply(correct_latitude)\n",
    "interventions4['Longitude'] = interventions4['longitude_intervention'].apply(correct_longitude)\n",
    "interventions5['Latitude'] = interventions5['Latitude intervention'].apply(correct_latitude)\n",
    "interventions5['Longitude'] = interventions5['Longitude intervention'].apply(correct_longitude)\n",
    "\n",
    "# Only keeping several variables\n",
    "interventions4 = interventions4[['Latitude', 'Longitude', 'Intervention', 'Eventlevel', 'T3-T0', 'EventType']]\n",
    "interventions5 = interventions5[['Latitude', 'Longitude', 'Intervention', 'Eventlevel', 'T3-T0', 'EventType']]\n",
    "                                 "
   ]
  },
  {
   "cell_type": "code",
   "execution_count": 15,
   "id": "4df7113b-b5bd-436e-a12b-8e0f42354281",
   "metadata": {},
   "outputs": [
    {
     "data": {
      "text/html": [
       "<div>\n",
       "<style scoped>\n",
       "    .dataframe tbody tr th:only-of-type {\n",
       "        vertical-align: middle;\n",
       "    }\n",
       "\n",
       "    .dataframe tbody tr th {\n",
       "        vertical-align: top;\n",
       "    }\n",
       "\n",
       "    .dataframe thead th {\n",
       "        text-align: right;\n",
       "    }\n",
       "</style>\n",
       "<table border=\"1\" class=\"dataframe\">\n",
       "  <thead>\n",
       "    <tr style=\"text-align: right;\">\n",
       "      <th></th>\n",
       "      <th>Latitude</th>\n",
       "      <th>Longitude</th>\n",
       "      <th>Intervention</th>\n",
       "      <th>Eventlevel</th>\n",
       "      <th>T3-T0</th>\n",
       "      <th>EventType</th>\n",
       "    </tr>\n",
       "  </thead>\n",
       "  <tbody>\n",
       "    <tr>\n",
       "      <th>205</th>\n",
       "      <td>50.83808</td>\n",
       "      <td>4.30484</td>\n",
       "      <td>1</td>\n",
       "      <td>N1</td>\n",
       "      <td>NaT</td>\n",
       "      <td>P003 - Cardiac arrest</td>\n",
       "    </tr>\n",
       "    <tr>\n",
       "      <th>206</th>\n",
       "      <td>50.83808</td>\n",
       "      <td>4.30484</td>\n",
       "      <td>1</td>\n",
       "      <td>N1</td>\n",
       "      <td>0 days 00:12:56.619802</td>\n",
       "      <td>P003 - Cardiac arrest</td>\n",
       "    </tr>\n",
       "    <tr>\n",
       "      <th>207</th>\n",
       "      <td>50.83808</td>\n",
       "      <td>4.30484</td>\n",
       "      <td>1</td>\n",
       "      <td>N1</td>\n",
       "      <td>NaT</td>\n",
       "      <td>P003 - Cardiac arrest</td>\n",
       "    </tr>\n",
       "    <tr>\n",
       "      <th>316</th>\n",
       "      <td>50.82480</td>\n",
       "      <td>4.38185</td>\n",
       "      <td>1</td>\n",
       "      <td>N1</td>\n",
       "      <td>0 days 00:06:09.825415800</td>\n",
       "      <td>P003 - Cardiac arrest</td>\n",
       "    </tr>\n",
       "    <tr>\n",
       "      <th>317</th>\n",
       "      <td>50.82480</td>\n",
       "      <td>4.38185</td>\n",
       "      <td>1</td>\n",
       "      <td>N1</td>\n",
       "      <td>0 days 00:08:43.201778800</td>\n",
       "      <td>P003 - Cardiac arrest</td>\n",
       "    </tr>\n",
       "  </tbody>\n",
       "</table>\n",
       "</div>"
      ],
      "text/plain": [
       "     Latitude  Longitude  Intervention Eventlevel                      T3-T0  \\\n",
       "205  50.83808    4.30484             1         N1                        NaT   \n",
       "206  50.83808    4.30484             1         N1     0 days 00:12:56.619802   \n",
       "207  50.83808    4.30484             1         N1                        NaT   \n",
       "316  50.82480    4.38185             1         N1  0 days 00:06:09.825415800   \n",
       "317  50.82480    4.38185             1         N1  0 days 00:08:43.201778800   \n",
       "\n",
       "                 EventType  \n",
       "205  P003 - Cardiac arrest  \n",
       "206  P003 - Cardiac arrest  \n",
       "207  P003 - Cardiac arrest  \n",
       "316  P003 - Cardiac arrest  \n",
       "317  P003 - Cardiac arrest  "
      ]
     },
     "execution_count": 15,
     "metadata": {},
     "output_type": "execute_result"
    }
   ],
   "source": [
    "interventions4.head(5)"
   ]
  },
  {
   "cell_type": "code",
   "execution_count": 16,
   "id": "e963752c-68e9-4bc7-8568-3cb8456e303d",
   "metadata": {},
   "outputs": [
    {
     "data": {
      "text/html": [
       "<div>\n",
       "<style scoped>\n",
       "    .dataframe tbody tr th:only-of-type {\n",
       "        vertical-align: middle;\n",
       "    }\n",
       "\n",
       "    .dataframe tbody tr th {\n",
       "        vertical-align: top;\n",
       "    }\n",
       "\n",
       "    .dataframe thead th {\n",
       "        text-align: right;\n",
       "    }\n",
       "</style>\n",
       "<table border=\"1\" class=\"dataframe\">\n",
       "  <thead>\n",
       "    <tr style=\"text-align: right;\">\n",
       "      <th></th>\n",
       "      <th>Latitude</th>\n",
       "      <th>Longitude</th>\n",
       "      <th>Intervention</th>\n",
       "      <th>Eventlevel</th>\n",
       "      <th>T3-T0</th>\n",
       "      <th>EventType</th>\n",
       "    </tr>\n",
       "  </thead>\n",
       "  <tbody>\n",
       "    <tr>\n",
       "      <th>808</th>\n",
       "      <td>50.849492</td>\n",
       "      <td>4.398207</td>\n",
       "      <td>1</td>\n",
       "      <td>N1</td>\n",
       "      <td>NaT</td>\n",
       "      <td>P003 - HARTSTILSTAND - DOOD - OVERLEDEN</td>\n",
       "    </tr>\n",
       "    <tr>\n",
       "      <th>809</th>\n",
       "      <td>50.849492</td>\n",
       "      <td>4.398207</td>\n",
       "      <td>1</td>\n",
       "      <td>N1</td>\n",
       "      <td>NaT</td>\n",
       "      <td>P003 - HARTSTILSTAND - DOOD - OVERLEDEN</td>\n",
       "    </tr>\n",
       "    <tr>\n",
       "      <th>1074</th>\n",
       "      <td>50.843201</td>\n",
       "      <td>4.343397</td>\n",
       "      <td>1</td>\n",
       "      <td>N1</td>\n",
       "      <td>0 days 00:08:00</td>\n",
       "      <td>P003 - HARTSTILSTAND - DOOD - OVERLEDEN</td>\n",
       "    </tr>\n",
       "    <tr>\n",
       "      <th>1075</th>\n",
       "      <td>50.843201</td>\n",
       "      <td>4.343397</td>\n",
       "      <td>1</td>\n",
       "      <td>N1</td>\n",
       "      <td>NaT</td>\n",
       "      <td>P003 - HARTSTILSTAND - DOOD - OVERLEDEN</td>\n",
       "    </tr>\n",
       "    <tr>\n",
       "      <th>1622</th>\n",
       "      <td>50.881461</td>\n",
       "      <td>4.347456</td>\n",
       "      <td>1</td>\n",
       "      <td>N1</td>\n",
       "      <td>NaT</td>\n",
       "      <td>P003 - HARTSTILSTAND - DOOD - OVERLEDEN</td>\n",
       "    </tr>\n",
       "  </tbody>\n",
       "</table>\n",
       "</div>"
      ],
      "text/plain": [
       "       Latitude  Longitude  Intervention Eventlevel           T3-T0  \\\n",
       "808   50.849492   4.398207             1         N1             NaT   \n",
       "809   50.849492   4.398207             1         N1             NaT   \n",
       "1074  50.843201   4.343397             1         N1 0 days 00:08:00   \n",
       "1075  50.843201   4.343397             1         N1             NaT   \n",
       "1622  50.881461   4.347456             1         N1             NaT   \n",
       "\n",
       "                                    EventType  \n",
       "808   P003 - HARTSTILSTAND - DOOD - OVERLEDEN  \n",
       "809   P003 - HARTSTILSTAND - DOOD - OVERLEDEN  \n",
       "1074  P003 - HARTSTILSTAND - DOOD - OVERLEDEN  \n",
       "1075  P003 - HARTSTILSTAND - DOOD - OVERLEDEN  \n",
       "1622  P003 - HARTSTILSTAND - DOOD - OVERLEDEN  "
      ]
     },
     "execution_count": 16,
     "metadata": {},
     "output_type": "execute_result"
    }
   ],
   "source": [
    "interventions5.head(5)"
   ]
  },
  {
   "cell_type": "markdown",
   "id": "b3542271-3d95-436f-bed0-b526b27008c3",
   "metadata": {},
   "source": [
    "**Concatenating everything together**"
   ]
  },
  {
   "cell_type": "code",
   "execution_count": 17,
   "id": "bd6afee5-7cc3-4bcb-9675-a3572594a542",
   "metadata": {},
   "outputs": [],
   "source": [
    "interventions_TOTAL = pd.concat([interventions123_total, cad, interventions4, interventions5], axis=0)\n",
    "\n",
    "# Adding extra AED column\n",
    "interventions_TOTAL['AED'] = 0  \n",
    "\n",
    "# Extracting numeric part from variable Eventlevel\n",
    "interventions_TOTAL['Eventlevel'] = interventions_TOTAL['Eventlevel'].apply(extract_numeric)\n",
    "\n",
    "# Converting timedelta to minutes\n",
    "interventions_TOTAL['T3-T0'] = interventions_TOTAL['T3-T0'].apply(timedelta_to_minutes)\n",
    "\n",
    "# Creating new columns for distance calculations later on\n",
    "interventions_TOTAL['Ambulance'] = 0\n",
    "interventions_TOTAL['Mug'] = 0"
   ]
  },
  {
   "cell_type": "code",
   "execution_count": 18,
   "id": "7d448275-aa5a-4844-b03a-be345378ba35",
   "metadata": {},
   "outputs": [
    {
     "data": {
      "text/html": [
       "<div>\n",
       "<style scoped>\n",
       "    .dataframe tbody tr th:only-of-type {\n",
       "        vertical-align: middle;\n",
       "    }\n",
       "\n",
       "    .dataframe tbody tr th {\n",
       "        vertical-align: top;\n",
       "    }\n",
       "\n",
       "    .dataframe thead th {\n",
       "        text-align: right;\n",
       "    }\n",
       "</style>\n",
       "<table border=\"1\" class=\"dataframe\">\n",
       "  <thead>\n",
       "    <tr style=\"text-align: right;\">\n",
       "      <th></th>\n",
       "      <th>Latitude</th>\n",
       "      <th>Longitude</th>\n",
       "      <th>Intervention</th>\n",
       "      <th>Eventlevel</th>\n",
       "      <th>T3-T0</th>\n",
       "      <th>EventType</th>\n",
       "      <th>AED</th>\n",
       "      <th>Ambulance</th>\n",
       "      <th>Mug</th>\n",
       "    </tr>\n",
       "  </thead>\n",
       "  <tbody>\n",
       "    <tr>\n",
       "      <th>42</th>\n",
       "      <td>51.20685</td>\n",
       "      <td>5.13662</td>\n",
       "      <td>1</td>\n",
       "      <td>1</td>\n",
       "      <td>18.884917</td>\n",
       "      <td>P003 - Cardiac arrest</td>\n",
       "      <td>0</td>\n",
       "      <td>0</td>\n",
       "      <td>0</td>\n",
       "    </tr>\n",
       "    <tr>\n",
       "      <th>87</th>\n",
       "      <td>51.24848</td>\n",
       "      <td>4.43869</td>\n",
       "      <td>1</td>\n",
       "      <td>1</td>\n",
       "      <td>4.238700</td>\n",
       "      <td>P003 - Cardiac arrest</td>\n",
       "      <td>0</td>\n",
       "      <td>0</td>\n",
       "      <td>0</td>\n",
       "    </tr>\n",
       "    <tr>\n",
       "      <th>88</th>\n",
       "      <td>51.24848</td>\n",
       "      <td>4.43869</td>\n",
       "      <td>1</td>\n",
       "      <td>1</td>\n",
       "      <td>12.612550</td>\n",
       "      <td>P003 - Cardiac arrest</td>\n",
       "      <td>0</td>\n",
       "      <td>0</td>\n",
       "      <td>0</td>\n",
       "    </tr>\n",
       "    <tr>\n",
       "      <th>207</th>\n",
       "      <td>51.28273</td>\n",
       "      <td>4.42134</td>\n",
       "      <td>1</td>\n",
       "      <td>1</td>\n",
       "      <td>13.427900</td>\n",
       "      <td>P003 - Cardiac arrest</td>\n",
       "      <td>0</td>\n",
       "      <td>0</td>\n",
       "      <td>0</td>\n",
       "    </tr>\n",
       "    <tr>\n",
       "      <th>208</th>\n",
       "      <td>51.28273</td>\n",
       "      <td>4.42134</td>\n",
       "      <td>1</td>\n",
       "      <td>1</td>\n",
       "      <td>36.619500</td>\n",
       "      <td>P003 - Cardiac arrest</td>\n",
       "      <td>0</td>\n",
       "      <td>0</td>\n",
       "      <td>0</td>\n",
       "    </tr>\n",
       "  </tbody>\n",
       "</table>\n",
       "</div>"
      ],
      "text/plain": [
       "     Latitude  Longitude  Intervention  Eventlevel      T3-T0  \\\n",
       "42   51.20685    5.13662             1           1  18.884917   \n",
       "87   51.24848    4.43869             1           1   4.238700   \n",
       "88   51.24848    4.43869             1           1  12.612550   \n",
       "207  51.28273    4.42134             1           1  13.427900   \n",
       "208  51.28273    4.42134             1           1  36.619500   \n",
       "\n",
       "                 EventType  AED  Ambulance  Mug  \n",
       "42   P003 - Cardiac arrest    0          0    0  \n",
       "87   P003 - Cardiac arrest    0          0    0  \n",
       "88   P003 - Cardiac arrest    0          0    0  \n",
       "207  P003 - Cardiac arrest    0          0    0  \n",
       "208  P003 - Cardiac arrest    0          0    0  "
      ]
     },
     "execution_count": 18,
     "metadata": {},
     "output_type": "execute_result"
    }
   ],
   "source": [
    "interventions_TOTAL.head(5)"
   ]
  },
  {
   "cell_type": "code",
   "execution_count": 19,
   "id": "ad339223-1c8c-4c37-b526-05d99e48abbc",
   "metadata": {},
   "outputs": [
    {
     "name": "stdout",
     "output_type": "stream",
     "text": [
      "Number of NaNs for Response Time:  3133\n",
      "Number of total known Response Times:  10388\n"
     ]
    }
   ],
   "source": [
    "print('Number of NaNs for Response Time: ', len(interventions_TOTAL[interventions_TOTAL['T3-T0'].isna()]))\n",
    "print('Number of total known Response Times: ', len(interventions_TOTAL['T3-T0']) - len(interventions_TOTAL[interventions_TOTAL['T3-T0'].isna()]))"
   ]
  },
  {
   "cell_type": "markdown",
   "id": "57b7fa0e-12f9-4389-a666-73e037427dbe",
   "metadata": {},
   "source": [
    "**Preprocessing AED Datasets**"
   ]
  },
  {
   "cell_type": "code",
   "execution_count": 21,
   "id": "b0ef6fa2-a481-48a6-8b69-e37a9fc54fd9",
   "metadata": {},
   "outputs": [],
   "source": [
    "# Discard non-public aed locations and also those of which no data is available\n",
    "yes_values = ['Y', 'y', 'Oui-Ja', 'Ja', 'Oui', 'J', np.nan]\n",
    "aed_total = aed_total[\n",
    "    aed_total['public'].isin(yes_values)]  \n",
    "\n",
    "# Correcting coordinates\n",
    "aed_total['Latitude'] = aed_total['latitude'].apply(correct_latitude)\n",
    "aed_total['Longitude'] = aed_total['longitude'].apply(correct_longitude)\n",
    "\n",
    "# Creatin new variables Intervention, AED, Ambulance, Mug, T3-T0, EventType and EventLevel\n",
    "aed_total['Intervention'] = 0\n",
    "aed_total['AED'] = 1\n",
    "aed_total['Eventlevel'] = np.nan\n",
    "aed_total['EventType'] = 'AED'\n",
    "aed_total['T3-T0'] = pd.NaT\n",
    "aed_total['Ambulance'] = 0\n",
    "aed_total['Mug'] = 0\n",
    "\n",
    "# Select only several variables for further analysis\n",
    "aed_total = aed_total[\n",
    "    ['Latitude', 'Longitude', 'Intervention', 'Eventlevel', 'T3-T0', 'EventType', 'AED', 'Ambulance', 'Mug']]"
   ]
  },
  {
   "cell_type": "markdown",
   "id": "9b69a4a9-2eab-411b-94a8-ff55b9ac31b9",
   "metadata": {},
   "source": [
    "**Preprocessing Ambulance Dataset**"
   ]
  },
  {
   "cell_type": "code",
   "execution_count": 22,
   "id": "fc39f9a6-eb68-4819-9ed8-12bddb22ac39",
   "metadata": {},
   "outputs": [],
   "source": [
    "# Correcting coordinates\n",
    "ambulance['Latitude'] = ambulance['latitude'].apply(correct_latitude)\n",
    "ambulance['Longitude'] = ambulance['longitude'].apply(correct_longitude)\n",
    "\n",
    "# Creating new variables Intervention, AED, Eventlevel, EventType, T3-T0, Ambulance and Mug\n",
    "ambulance['Intervention'] = 0\n",
    "ambulance['AED'] = 0\n",
    "ambulance['Eventlevel'] = np.nan\n",
    "ambulance['EventType'] = 'Ambulance'\n",
    "ambulance['T3-T0'] = pd.NaT\n",
    "ambulance['Ambulance'] = 1\n",
    "ambulance['Mug'] = 0\n",
    "ambulance = ambulance[\n",
    "    ['Latitude', 'Longitude', 'Intervention', 'Eventlevel', 'T3-T0', 'EventType', 'AED', 'Ambulance', 'Mug']]"
   ]
  },
  {
   "cell_type": "code",
   "execution_count": 23,
   "id": "8f84be94-3569-4f5c-8e36-89eac32dfc54",
   "metadata": {},
   "outputs": [
    {
     "data": {
      "text/html": [
       "<div>\n",
       "<style scoped>\n",
       "    .dataframe tbody tr th:only-of-type {\n",
       "        vertical-align: middle;\n",
       "    }\n",
       "\n",
       "    .dataframe tbody tr th {\n",
       "        vertical-align: top;\n",
       "    }\n",
       "\n",
       "    .dataframe thead th {\n",
       "        text-align: right;\n",
       "    }\n",
       "</style>\n",
       "<table border=\"1\" class=\"dataframe\">\n",
       "  <thead>\n",
       "    <tr style=\"text-align: right;\">\n",
       "      <th></th>\n",
       "      <th>Latitude</th>\n",
       "      <th>Longitude</th>\n",
       "      <th>Intervention</th>\n",
       "      <th>Eventlevel</th>\n",
       "      <th>T3-T0</th>\n",
       "      <th>EventType</th>\n",
       "      <th>AED</th>\n",
       "      <th>Ambulance</th>\n",
       "      <th>Mug</th>\n",
       "    </tr>\n",
       "  </thead>\n",
       "  <tbody>\n",
       "    <tr>\n",
       "      <th>0</th>\n",
       "      <td>51.215516</td>\n",
       "      <td>4.443788</td>\n",
       "      <td>0</td>\n",
       "      <td>NaN</td>\n",
       "      <td>NaT</td>\n",
       "      <td>Ambulance</td>\n",
       "      <td>0</td>\n",
       "      <td>1</td>\n",
       "      <td>0</td>\n",
       "    </tr>\n",
       "    <tr>\n",
       "      <th>1</th>\n",
       "      <td>51.178831</td>\n",
       "      <td>4.361948</td>\n",
       "      <td>0</td>\n",
       "      <td>NaN</td>\n",
       "      <td>NaT</td>\n",
       "      <td>Ambulance</td>\n",
       "      <td>0</td>\n",
       "      <td>1</td>\n",
       "      <td>0</td>\n",
       "    </tr>\n",
       "    <tr>\n",
       "      <th>2</th>\n",
       "      <td>51.232810</td>\n",
       "      <td>4.377237</td>\n",
       "      <td>0</td>\n",
       "      <td>NaN</td>\n",
       "      <td>NaT</td>\n",
       "      <td>Ambulance</td>\n",
       "      <td>0</td>\n",
       "      <td>1</td>\n",
       "      <td>0</td>\n",
       "    </tr>\n",
       "    <tr>\n",
       "      <th>3</th>\n",
       "      <td>51.315516</td>\n",
       "      <td>4.321506</td>\n",
       "      <td>0</td>\n",
       "      <td>NaN</td>\n",
       "      <td>NaT</td>\n",
       "      <td>Ambulance</td>\n",
       "      <td>0</td>\n",
       "      <td>1</td>\n",
       "      <td>0</td>\n",
       "    </tr>\n",
       "    <tr>\n",
       "      <th>4</th>\n",
       "      <td>51.213623</td>\n",
       "      <td>4.405718</td>\n",
       "      <td>0</td>\n",
       "      <td>NaN</td>\n",
       "      <td>NaT</td>\n",
       "      <td>Ambulance</td>\n",
       "      <td>0</td>\n",
       "      <td>1</td>\n",
       "      <td>0</td>\n",
       "    </tr>\n",
       "  </tbody>\n",
       "</table>\n",
       "</div>"
      ],
      "text/plain": [
       "    Latitude  Longitude  Intervention  Eventlevel T3-T0  EventType  AED  \\\n",
       "0  51.215516   4.443788             0         NaN   NaT  Ambulance    0   \n",
       "1  51.178831   4.361948             0         NaN   NaT  Ambulance    0   \n",
       "2  51.232810   4.377237             0         NaN   NaT  Ambulance    0   \n",
       "3  51.315516   4.321506             0         NaN   NaT  Ambulance    0   \n",
       "4  51.213623   4.405718             0         NaN   NaT  Ambulance    0   \n",
       "\n",
       "   Ambulance  Mug  \n",
       "0          1    0  \n",
       "1          1    0  \n",
       "2          1    0  \n",
       "3          1    0  \n",
       "4          1    0  "
      ]
     },
     "execution_count": 23,
     "metadata": {},
     "output_type": "execute_result"
    }
   ],
   "source": [
    "ambulance.head(5)"
   ]
  },
  {
   "cell_type": "markdown",
   "id": "a1bc0fd4-9184-4430-98d5-1c03762c9550",
   "metadata": {},
   "source": [
    "**Preprocessing Mug Dataset**"
   ]
  },
  {
   "cell_type": "code",
   "execution_count": 24,
   "id": "a1414657-85e0-4b84-a411-be8d93ea4816",
   "metadata": {},
   "outputs": [],
   "source": [
    "# Correcting coordinates\n",
    "mug1['Latitude'] = mug1['latitude'].apply(correct_latitude)\n",
    "mug1['Longitude'] = mug1['longitude'].apply(correct_longitude)\n",
    "\n",
    "# Creating new variables Intervention, AED, Eventlevel, EventType, T3-T0, Ambulance and Mug\n",
    "mug1['Intervention'] = 0\n",
    "mug1['AED'] = 0\n",
    "mug1['Eventlevel'] = np.nan\n",
    "mug1['EventType'] = 'Mug'\n",
    "mug1['T3-T0'] = pd.NaT\n",
    "mug1['Ambulance'] = 1\n",
    "mug1['Mug'] = 1\n",
    "mug1 = mug1[['Latitude', 'Longitude', 'Intervention', 'Eventlevel', 'T3-T0', 'EventType', 'AED', 'Ambulance', 'Mug']]"
   ]
  },
  {
   "cell_type": "code",
   "execution_count": 25,
   "id": "23cc8a33-1fa1-4b8d-a467-4332e7a19b66",
   "metadata": {},
   "outputs": [
    {
     "data": {
      "text/html": [
       "<div>\n",
       "<style scoped>\n",
       "    .dataframe tbody tr th:only-of-type {\n",
       "        vertical-align: middle;\n",
       "    }\n",
       "\n",
       "    .dataframe tbody tr th {\n",
       "        vertical-align: top;\n",
       "    }\n",
       "\n",
       "    .dataframe thead th {\n",
       "        text-align: right;\n",
       "    }\n",
       "</style>\n",
       "<table border=\"1\" class=\"dataframe\">\n",
       "  <thead>\n",
       "    <tr style=\"text-align: right;\">\n",
       "      <th></th>\n",
       "      <th>Latitude</th>\n",
       "      <th>Longitude</th>\n",
       "      <th>Intervention</th>\n",
       "      <th>Eventlevel</th>\n",
       "      <th>T3-T0</th>\n",
       "      <th>EventType</th>\n",
       "      <th>AED</th>\n",
       "      <th>Ambulance</th>\n",
       "      <th>Mug</th>\n",
       "    </tr>\n",
       "  </thead>\n",
       "  <tbody>\n",
       "    <tr>\n",
       "      <th>0</th>\n",
       "      <td>51.133301</td>\n",
       "      <td>5.162843</td>\n",
       "      <td>0</td>\n",
       "      <td>NaN</td>\n",
       "      <td>NaT</td>\n",
       "      <td>Mug</td>\n",
       "      <td>0</td>\n",
       "      <td>1</td>\n",
       "      <td>1</td>\n",
       "    </tr>\n",
       "    <tr>\n",
       "      <th>1</th>\n",
       "      <td>51.206704</td>\n",
       "      <td>4.414373</td>\n",
       "      <td>0</td>\n",
       "      <td>NaN</td>\n",
       "      <td>NaT</td>\n",
       "      <td>Mug</td>\n",
       "      <td>0</td>\n",
       "      <td>1</td>\n",
       "      <td>1</td>\n",
       "    </tr>\n",
       "    <tr>\n",
       "      <th>2</th>\n",
       "      <td>51.206492</td>\n",
       "      <td>4.470635</td>\n",
       "      <td>0</td>\n",
       "      <td>NaN</td>\n",
       "      <td>NaT</td>\n",
       "      <td>Mug</td>\n",
       "      <td>0</td>\n",
       "      <td>1</td>\n",
       "      <td>1</td>\n",
       "    </tr>\n",
       "    <tr>\n",
       "      <th>3</th>\n",
       "      <td>51.182009</td>\n",
       "      <td>4.420858</td>\n",
       "      <td>0</td>\n",
       "      <td>NaN</td>\n",
       "      <td>NaT</td>\n",
       "      <td>Mug</td>\n",
       "      <td>0</td>\n",
       "      <td>1</td>\n",
       "      <td>1</td>\n",
       "    </tr>\n",
       "    <tr>\n",
       "      <th>4</th>\n",
       "      <td>51.175704</td>\n",
       "      <td>4.412289</td>\n",
       "      <td>0</td>\n",
       "      <td>NaN</td>\n",
       "      <td>NaT</td>\n",
       "      <td>Mug</td>\n",
       "      <td>0</td>\n",
       "      <td>1</td>\n",
       "      <td>1</td>\n",
       "    </tr>\n",
       "  </tbody>\n",
       "</table>\n",
       "</div>"
      ],
      "text/plain": [
       "    Latitude  Longitude  Intervention  Eventlevel T3-T0 EventType  AED  \\\n",
       "0  51.133301   5.162843             0         NaN   NaT       Mug    0   \n",
       "1  51.206704   4.414373             0         NaN   NaT       Mug    0   \n",
       "2  51.206492   4.470635             0         NaN   NaT       Mug    0   \n",
       "3  51.182009   4.420858             0         NaN   NaT       Mug    0   \n",
       "4  51.175704   4.412289             0         NaN   NaT       Mug    0   \n",
       "\n",
       "   Ambulance  Mug  \n",
       "0          1    1  \n",
       "1          1    1  \n",
       "2          1    1  \n",
       "3          1    1  \n",
       "4          1    1  "
      ]
     },
     "execution_count": 25,
     "metadata": {},
     "output_type": "execute_result"
    }
   ],
   "source": [
    "mug1.head(5)"
   ]
  },
  {
   "cell_type": "markdown",
   "id": "a83d0753-1e51-4cbd-aa94-5d4abdd7892d",
   "metadata": {},
   "source": [
    "**Concatenating all together for AED optimization**"
   ]
  },
  {
   "cell_type": "code",
   "execution_count": 26,
   "id": "b497aac7-1c93-4893-9cdf-1c444086eaac",
   "metadata": {},
   "outputs": [],
   "source": [
    "aed_df = pd.concat([interventions_TOTAL, aed_total, ambulance, mug1], axis=0)"
   ]
  },
  {
   "cell_type": "code",
   "execution_count": 27,
   "id": "3e09b459-08c6-4894-a0dd-8b1a7f360986",
   "metadata": {},
   "outputs": [
    {
     "name": "stdout",
     "output_type": "stream",
     "text": [
      "Unique number of values Latitude values:  18092\n",
      "Unique number of values Longitude values:  18727\n",
      "Unique values eventlevels [ 1.  2.  0.  5.  7.  6. nan]\n",
      "Cross table of Event Levels: \n",
      " col_0  count\n",
      "row_0       \n",
      "0.0     1920\n",
      "1.0     9749\n",
      "2.0      747\n",
      "5.0     1030\n",
      "6.0       69\n",
      "7.0        6\n",
      "Maximum Response Time for aed_df: 80267.83333333333\n"
     ]
    }
   ],
   "source": [
    "print('Unique number of values Latitude values: ', len(list(aed_df['Latitude'].unique())))\n",
    "print('Unique number of values Longitude values: ', len(list(aed_df['Longitude'].unique())))\n",
    "print('Unique values eventlevels', aed_df['Eventlevel'].unique())\n",
    "cross_tab = pd.crosstab(index=pd.Categorical(aed_df[\"Eventlevel\"]), columns='count')\n",
    "print('Cross table of Event Levels: \\n', cross_tab)\n",
    "\n",
    "max_responseTime = aed_df['T3-T0'].max()\n",
    "print(f\"Maximum Response Time for aed_df: {max_responseTime}\")"
   ]
  },
  {
   "cell_type": "markdown",
   "id": "f7b9f2d6-d728-4de7-be2d-bf9850e2e012",
   "metadata": {},
   "source": [
    "**Graphical inspection of the parameters**"
   ]
  },
  {
   "cell_type": "code",
   "execution_count": 28,
   "id": "b8eeee13-a0ab-408b-a703-1086a6a72c18",
   "metadata": {},
   "outputs": [
    {
     "data": {
      "image/png": "[encoded data removed]",
      "text/plain": [
       "<Figure size 640x480 with 4 Axes>"
      ]
     },
     "metadata": {},
     "output_type": "display_data"
    }
   ],
   "source": [
    "draw_histograms(aed_df, aed_df[['Latitude', 'Longitude', 'T3-T0', 'Eventlevel']], 2, 2)"
   ]
  },
  {
   "cell_type": "code",
   "execution_count": 29,
   "id": "a93a2fca-3ea6-41c7-b0f2-2d670e277833",
   "metadata": {},
   "outputs": [
    {
     "data": {
      "text/plain": [
       "<Axes: >"
      ]
     },
     "execution_count": 29,
     "metadata": {},
     "output_type": "execute_result"
    },
    {
     "data": {
      "image/png": "[encoded data removed]",
      "text/plain": [
       "<Figure size 640x480 with 1 Axes>"
      ]
     },
     "metadata": {},
     "output_type": "display_data"
    }
   ],
   "source": [
    "aed_df['T3-T0'].hist()"
   ]
  },
  {
   "cell_type": "code",
   "execution_count": 30,
   "id": "5d286787-9f92-413e-8399-63a9fae01810",
   "metadata": {},
   "outputs": [
    {
     "data": {
      "text/plain": [
       "Text(0.5, 1.0, 'Coordinates in dataset')"
      ]
     },
     "execution_count": 30,
     "metadata": {},
     "output_type": "execute_result"
    },
    {
     "data": {
      "image/png": "[encoded data removed]",
      "text/plain": [
       "<Figure size 640x480 with 1 Axes>"
      ]
     },
     "metadata": {},
     "output_type": "display_data"
    }
   ],
   "source": [
    "plt.scatter(aed_df['Longitude'], aed_df['Latitude']) # There are certainly nine points which does not lie in Belgium\n",
    "plt.xlabel('Longitude'); plt.ylabel('Latitude'); plt.title('Coordinates in dataset')"
   ]
  },
  {
   "cell_type": "markdown",
   "id": "7dbeee4a-366d-4e8d-81bf-faeaee2ebdf8",
   "metadata": {},
   "source": [
    "**Remove coordinate pairs which does not lie in Belgium and set negative response times to pd.NaT**\n",
    "\n",
    "Belgian coordinates found from source: https://www.belgium.be/en/about_belgium/country/geography \n",
    "\n",
    "Citate: 'Belgium spans 2 degrees in latitude, from 51 degrees 30 minutes N at Meerle (northernmost point) to 49 degrees 30 minutes N at Torgny (southernmost point). In longitude, it spans less than 4 degrees, from 2 degrees 33 minutes E to 6 degrees 24 minutes E.'"
   ]
  },
  {
   "cell_type": "code",
   "execution_count": 31,
   "id": "11f461fc-b235-4646-b22c-efd3b47be6bb",
   "metadata": {},
   "outputs": [],
   "source": [
    "# Remove locations outside of Belgium from the dataset\n",
    "aed_df = aed_df[aed_df.apply(lambda row: is_within_belgium(row['Latitude'], row['Longitude']), axis=1)]\n",
    "\n",
    "# Transform negative time difference to NaT\n",
    "aed_df.loc[aed_df['T3-T0'] < 0, 'T3-T0'] = pd.NaT"
   ]
  },
  {
   "cell_type": "code",
   "execution_count": 32,
   "id": "8026428b-6f2f-4450-b518-4cd06fa56c59",
   "metadata": {},
   "outputs": [
    {
     "data": {
      "text/plain": [
       "Text(0.5, 1.0, 'Coordinates in dataset')"
      ]
     },
     "execution_count": 32,
     "metadata": {},
     "output_type": "execute_result"
    },
    {
     "data": {
      "image/png": "[encoded data removed]",
      "text/plain": [
       "<Figure size 640x480 with 1 Axes>"
      ]
     },
     "metadata": {},
     "output_type": "display_data"
    }
   ],
   "source": [
    "plt.scatter(aed_df['Longitude'], aed_df['Latitude']) # There are certainly nine points which does not lie in Belgium\n",
    "plt.xlabel('Longitude'); plt.ylabel('Latitude'); plt.title('Coordinates in dataset')"
   ]
  },
  {
   "cell_type": "code",
   "execution_count": 33,
   "id": "5810a126-7520-442e-98bf-b942488e5086",
   "metadata": {},
   "outputs": [
    {
     "data": {
      "text/plain": [
       "<Axes: >"
      ]
     },
     "execution_count": 33,
     "metadata": {},
     "output_type": "execute_result"
    },
    {
     "data": {
      "image/png": "[encoded data removed]",
      "text/plain": [
       "<Figure size 640x480 with 1 Axes>"
      ]
     },
     "metadata": {},
     "output_type": "display_data"
    }
   ],
   "source": [
    "# Histogram of Response Time distribution\n",
    "aed_df['T3-T0'].hist() # Seriously long Response times found. "
   ]
  },
  {
   "cell_type": "markdown",
   "id": "208baac9-0299-4934-854c-4d46dd6fca40",
   "metadata": {},
   "source": [
    "**Outlier Detection for Response Time T3-T0**\n",
    "\n",
    "IsolationForest (for outliers/anomalies of the response time T3-T0, because some are longer than 1 day)\n",
    "=> probably incorrectly filled in, in the dataset\n"
   ]
  },
  {
   "cell_type": "code",
   "execution_count": 34,
   "id": "b326f97a-ba54-405a-bcc7-d3e24c27503a",
   "metadata": {},
   "outputs": [
    {
     "name": "stdout",
     "output_type": "stream",
     "text": [
      "16233\n"
     ]
    }
   ],
   "source": [
    "print(aed_df['T3-T0'].isna().sum())  # 16233 NaN values"
   ]
  },
  {
   "cell_type": "code",
   "execution_count": 35,
   "id": "58348ee2-6196-476a-9be2-72dc329b3063",
   "metadata": {},
   "outputs": [
    {
     "name": "stdout",
     "output_type": "stream",
     "text": [
      "Without NaN:  10343\n",
      "With NaN:  16233\n"
     ]
    }
   ],
   "source": [
    "# Split the DataFrame into two: one with the NaN and one without in the 'T3-T0' column\n",
    "# DataFrame with NaN values\n",
    "aed_df_with_nan = aed_df[aed_df['T3-T0'].isna()]  \n",
    "# DataFrame without NaN values\n",
    "aed_df_without_nan = aed_df[~aed_df['T3-T0'].isna()]  \n",
    "\n",
    "print('Without NaN: ', len(aed_df_without_nan))\n",
    "print('With NaN: ', len(aed_df_with_nan))"
   ]
  },
  {
   "cell_type": "code",
   "execution_count": 36,
   "id": "4535c581-a2f3-4ff8-b993-bfc0aecc34ec",
   "metadata": {},
   "outputs": [
    {
     "name": "stdout",
     "output_type": "stream",
     "text": [
      "min response time of outliers: 43.78635\n",
      "max response time of outliers: 80267.83333333333\n",
      "min response time of inliers: 0.6166666666666667\n",
      "max response time of inliers: 43.56666666666667\n",
      "Number of discarded rows: 1047\n",
      "Number of filtered rows: 9296\n",
      "\n",
      "Filtered DataFrame (Inliers):\n"
     ]
    }
   ],
   "source": [
    "Time = aed_df_without_nan['T3-T0']\n",
    "\n",
    "# IsolationForest algorithm\n",
    "IsoFo = IsolationForest(n_estimators=100, contamination='auto',\n",
    "                        random_state=45)  # Random state added for reproducibility\n",
    "y_labels = IsoFo.fit_predict(np.array(Time).reshape(-1, 1))\n",
    "\n",
    "# Only including the inliers\n",
    "aed_df_filtered = aed_df_without_nan[y_labels == 1]  # DataFrame with inliers\n",
    "discarded_rows = aed_df_without_nan[y_labels == -1]  # DataFrame with outliers\n",
    "\n",
    "min_timedelta = discarded_rows['T3-T0'].min()  # Time deltas larger than 44.27 minutes are discarded\n",
    "max_timedelta = discarded_rows['T3-T0'].max()\n",
    "min_timedelta2 = aed_df_filtered['T3-T0'].min()\n",
    "max_timedelta2 = aed_df_filtered['T3-T0'].max()\n",
    "print(f\"min response time of outliers: {min_timedelta}\")  # Minimum outlier value = 44.27 minutes\n",
    "print(f\"max response time of outliers: {max_timedelta}\")  # Maximum outlier value = 80267.83 minutes\n",
    "print(f\"min response time of inliers: {min_timedelta2}\")  # Minimum outlier value = 0.62 minutes\n",
    "print(f\"max response time of inliers: {max_timedelta2}\")  # Maximum outlier value = 44.17 minutes\n",
    "print(f\"Number of discarded rows: {len(discarded_rows)}\")  # 1047\n",
    "print(f\"Number of filtered rows: {len(aed_df_filtered)}\")  # 9296\n",
    "\n",
    "print(\"\\nFiltered DataFrame (Inliers):\")\n",
    "# print(aed_df_filtered)\"\"\""
   ]
  },
  {
   "cell_type": "markdown",
   "id": "d6e189ee-92a8-48b2-80d1-1d6fc2a58907",
   "metadata": {},
   "source": [
    "**Total dataset without outliers**"
   ]
  },
  {
   "cell_type": "code",
   "execution_count": 37,
   "id": "d6716875-d9b5-4dbc-8ffa-30547354c2c4",
   "metadata": {},
   "outputs": [],
   "source": [
    "# Add rows with NaN values again:\n",
    "aed_ready = pd.concat([aed_df_filtered, aed_df_with_nan], axis=0)"
   ]
  },
  {
   "cell_type": "code",
   "execution_count": 38,
   "id": "19e4658e-67bf-4f17-b038-9b1a5c33c855",
   "metadata": {},
   "outputs": [
    {
     "data": {
      "text/plain": [
       "<Axes: >"
      ]
     },
     "execution_count": 38,
     "metadata": {},
     "output_type": "execute_result"
    },
    {
     "data": {
      "image/png": "[encoded data removed]",
      "text/plain": [
       "<Figure size 640x480 with 1 Axes>"
      ]
     },
     "metadata": {},
     "output_type": "display_data"
    }
   ],
   "source": [
    "# Plot response times\n",
    "aed_ready['T3-T0'].hist() # Right-skewed distribution"
   ]
  },
  {
   "cell_type": "code",
   "execution_count": 39,
   "id": "6679c09d-baea-4b97-b7b0-e0fc463f6c84",
   "metadata": {},
   "outputs": [
    {
     "name": "stdout",
     "output_type": "stream",
     "text": [
      "Length of dataset:  25529\n",
      "Latitude            0\n",
      "Longitude           0\n",
      "Intervention        0\n",
      "Eventlevel      14268\n",
      "T3-T0           16233\n",
      "EventType           0\n",
      "AED                 0\n",
      "Ambulance           0\n",
      "Mug                 0\n",
      "dtype: int64\n",
      "Number of missing values per column: \n",
      " None\n",
      "Minimum latitude of dataset: 49.506818912808\n",
      "Maximum latitude of dataset: 51.496268138986\n",
      "Minimum longitude of dataset: 2.582286169092\n",
      "Maximum longitude of dataset: 6.344506259237\n",
      "min_timedelta of dataset: 0.6166666666666667\n",
      "max_timedelta of dataset: 43.56666666666667\n"
     ]
    }
   ],
   "source": [
    "# Last check if no weird values are included in the dataset\n",
    "\n",
    "# Get the minimum and maximum values of the 'latitude' column\n",
    "min_latitude = aed_ready['Latitude'].min()\n",
    "max_latitude = aed_ready['Latitude'].max()\n",
    "# Get the minimum and maximum values of the 'longitude' column\n",
    "min_longitude = aed_ready['Longitude'].min()\n",
    "max_longitude = aed_ready['Longitude'].max()\n",
    "# Get the minimum and maximum values of the response time column\n",
    "min_timedelta = aed_ready['T3-T0'].min()\n",
    "max_timedelta = aed_ready['T3-T0'].max()\n",
    "\n",
    "print('Length of dataset: ', len(aed_ready))\n",
    "print('Number of missing values per column: \\n', print(aed_ready[['Latitude', 'Longitude', 'Intervention',\n",
    "                                                                  'Eventlevel', 'T3-T0', 'EventType', 'AED', \n",
    "                                                                  'Ambulance', 'Mug']].isna().sum()))  # 1210 missing values for latitude from intervention dataset\n",
    "print(f\"Minimum latitude of dataset: {min_latitude}\")\n",
    "print(f\"Maximum latitude of dataset: {max_latitude}\")\n",
    "print(f\"Minimum longitude of dataset: {min_longitude}\")\n",
    "print(f\"Maximum longitude of dataset: {max_longitude}\")\n",
    "print(f\"min_timedelta of dataset: {min_timedelta}\")  # Minimum outlier value = 44.27 minutes\n",
    "print(f\"max_timedelta of dataset: {max_timedelta}\")  # Maximum outlier value = 80267.83 minutes"
   ]
  },
  {
   "cell_type": "markdown",
   "id": "075f1183-11a3-468b-a25b-298cac2338b7",
   "metadata": {},
   "source": [
    "**Save new Dataset to GitHub**"
   ]
  },
  {
   "cell_type": "code",
   "execution_count": 42,
   "id": "b9854133-58c0-4825-8ec6-832de253d839",
   "metadata": {},
   "outputs": [],
   "source": [
    "# aed_ready.to_csv('Data/aed_placement_df.csv', index=False)"
   ]
  }
 ],
 "metadata": {
  "kernelspec": {
   "display_name": "MDA24",
   "language": "python",
   "name": "mda24"
  },
  "language_info": {
   "codemirror_mode": {
    "name": "ipython",
    "version": 3
   },
   "file_extension": ".py",
   "mimetype": "text/x-python",
   "name": "python",
   "nbconvert_exporter": "python",
   "pygments_lexer": "ipython3",
   "version": "3.12.4"
  }
 },
 "nbformat": 4,
 "nbformat_minor": 5
}
